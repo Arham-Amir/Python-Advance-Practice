{
 "cells": [
  {
   "cell_type": "code",
   "execution_count": null,
   "metadata": {},
   "outputs": [],
   "source": [
    "import seaborn as sb\n",
    "import pandas as pd\n",
    "import matplotlib.pyplot as plt\n",
    "import numpy as np\n",
    "\n",
    "df = pd.read_csv(\"./pokemon_data.csv\")\n",
    "plt.figure(figsize=(16,5))\n",
    "plt.subplot(1,2,1)\n",
    "sb.distplot(df[\"Attack\"])\n",
    "plt.subplot(1,2,2)\n",
    "sb.boxplot(y=\"Attack\", data=df)"
   ]
  },
  {
   "cell_type": "code",
   "execution_count": null,
   "metadata": {},
   "outputs": [],
   "source": [
    "# df[\"Attack\"].describe()\n",
    "h_bound = df[\"Attack\"].mean() + 3 * df[\"Attack\"].std()\n",
    "l_bound = df[\"Attack\"].mean() - 3 * df[\"Attack\"].std()\n",
    "print(h_bound, l_bound)\n",
    "\n",
    "\n"
   ]
  },
  {
   "cell_type": "code",
   "execution_count": null,
   "metadata": {},
   "outputs": [],
   "source": [
    "# Trimining Outliars\n",
    "\n",
    "# df.loc[(df[\"Attack\"] > h_bound) | (df[\"Attack\"] < l_bound)]\n",
    "# new_df = df[(df[\"Attack\"] < h_bound) & (df[\"Attack\"] > l_bound)]\n",
    "# new_df\n",
    "\n",
    "# by calculating z_score and remove above and lower z_score value then 3 and -3 respecively\n",
    "\n",
    "# df[\"Attack_zscore\"] = (df[\"Attack\"] - df[\"Attack\"].mean())/df[\"Attack\"].std()\n",
    "# new_df = df[(df[\"Attack_zscore\"]<3) & (df[\"Attack_zscore\"]>-3)]\n",
    "# new_df"
   ]
  },
  {
   "cell_type": "code",
   "execution_count": null,
   "metadata": {},
   "outputs": [],
   "source": [
    "# Capping outliars\n",
    "\n",
    "df[\"Attack\"] = np.where(df[\"Attack\"]>h_bound, \n",
    "         h_bound,\n",
    "         np.where(df[\"Attack\"]<l_bound, \n",
    "         l_bound,\n",
    "         df[\"Attack\"]))\n",
    "df[\"Attack\"]"
   ]
  },
  {
   "cell_type": "code",
   "execution_count": null,
   "metadata": {},
   "outputs": [],
   "source": []
  }
 ],
 "metadata": {
  "kernelspec": {
   "display_name": "Python 3",
   "language": "python",
   "name": "python3"
  },
  "language_info": {
   "codemirror_mode": {
    "name": "ipython",
    "version": 3
   },
   "file_extension": ".py",
   "mimetype": "text/x-python",
   "name": "python",
   "nbconvert_exporter": "python",
   "pygments_lexer": "ipython3",
   "version": "3.12.3"
  }
 },
 "nbformat": 4,
 "nbformat_minor": 2
}
